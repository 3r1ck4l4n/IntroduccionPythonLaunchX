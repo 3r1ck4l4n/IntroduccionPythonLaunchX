{
 "cells": [
  {
   "cell_type": "markdown",
   "metadata": {},
   "source": [
    "# Añadir el código necesario para crear una variable que guarde la velocidad del asteroide.\n",
    "# Escribe una expresión de prueba para calcular si necesita una advertencia.\n",
    "# Agregue las instrucciones que se ejecutarán si la expresión de prueba es true o false."
   ]
  },
  {
   "cell_type": "code",
   "execution_count": null,
   "metadata": {},
   "outputs": [],
   "source": [
    "velocidad = 49\n",
    "if velocidad >= 25:\n",
    "    print(\"ADVERTENCIA!!!\")\n",
    "else:\n",
    "    print(\"No existe peligro!!!\")"
   ]
  },
  {
   "cell_type": "markdown",
   "metadata": {},
   "source": [
    "# Agrega el código para crear una variable para un asteroide que viaja a 19 km/s\n",
    "# Escribe varias expresiones de prueba para determinar si puedes ver el rayo de luz desde la tierra\n",
    "# Agrega las instrucciones que se ejecutarán si las expresiones de prueba son True o False"
   ]
  },
  {
   "cell_type": "code",
   "execution_count": 4,
   "metadata": {},
   "outputs": [
    {
     "name": "stdout",
     "output_type": "stream",
     "text": [
      "No se puede ver el halo de luz\n"
     ]
    }
   ],
   "source": [
    "asteroide = 19\n",
    "\n",
    "if asteroide > 20:\n",
    "    print(\"Halo de luz visible\")\n",
    "elif asteroide == 20:\n",
    "    print(\"Halo de luz visible\")\n",
    "else:\n",
    "    print(\"No se puede ver el halo de luz\")"
   ]
  },
  {
   "cell_type": "markdown",
   "metadata": {},
   "source": [
    "# Agrega el código para crear nuevas variables para la velocidad y el tamaño del asteroide\n",
    "# Para probar el código, prueba con varias velocidades y tamaños\n",
    "# Escribe varias expresiones de prueba o combinaciones de expresiones de prueba para determinar qué mensaje se debe enviar a Tierra."
   ]
  },
  {
   "cell_type": "code",
   "execution_count": 13,
   "metadata": {},
   "outputs": [
    {
     "name": "stdout",
     "output_type": "stream",
     "text": [
      "El meteorito causara daño\n",
      "No existe peligro!!!\n",
      "Halo de luz visible\n"
     ]
    }
   ],
   "source": [
    "velocidad = 20\n",
    "tamaño = 50\n",
    "\n",
    "if (tamaño > 25 or tamaño < 1000):\n",
    "    print(\"El meteorito causara daño\")\n",
    "    if velocidad > 25:\n",
    "        print(\"ADVERTENCIA!!!!\")\n",
    "        if velocidad >= 20:\n",
    "            print(\"Halo de luz visible\")\n",
    "        else:\n",
    "            print(\"No se puede ver el halo de luz\")\n",
    "    else:\n",
    "        print(\"No existe peligro!!!\")\n",
    "        if velocidad >= 20:\n",
    "            print(\"Halo de luz visible\")\n",
    "        else:\n",
    "            print(\"No se puede ver el halo de luz\")\n",
    "    \n",
    "else:\n",
    "    print(\"NO hay riesgo\")\n",
    "    if velocidad > 25:\n",
    "        print(\"ADVERTENCIA!!!!\")\n",
    "        if velocidad >= 20:\n",
    "            print(\"Halo de luz visible\")\n",
    "        else:\n",
    "            print(\"No se puede ver el halo de luz\")\n",
    "    else:\n",
    "        print(\"No existe peligro!!!\")\n",
    "        if velocidad >= 20:\n",
    "            print(\"Halo de luz visible\")\n",
    "        else:\n",
    "            print(\"No se puede ver el halo de luz\")"
   ]
  },
  {
   "cell_type": "code",
   "execution_count": null,
   "metadata": {},
   "outputs": [],
   "source": []
  }
 ],
 "metadata": {
  "interpreter": {
   "hash": "24e38f5054871c982be59582bcbb2bb6b8522b9670dfe3ee9f05474fd7982df6"
  },
  "kernelspec": {
   "display_name": "Python 3.10.0 64-bit",
   "language": "python",
   "name": "python3"
  },
  "language_info": {
   "codemirror_mode": {
    "name": "ipython",
    "version": 3
   },
   "file_extension": ".py",
   "mimetype": "text/x-python",
   "name": "python",
   "nbconvert_exporter": "python",
   "pygments_lexer": "ipython3",
   "version": "3.10.0"
  },
  "orig_nbformat": 4
 },
 "nbformat": 4,
 "nbformat_minor": 2
}
