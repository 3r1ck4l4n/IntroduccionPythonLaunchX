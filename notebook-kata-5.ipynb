{
 "cells": [
  {
   "cell_type": "markdown",
   "metadata": {},
   "source": [
    "# Ejercicio 1"
   ]
  },
  {
   "cell_type": "code",
   "execution_count": 6,
   "metadata": {},
   "outputs": [
    {
     "name": "stdout",
     "output_type": "stream",
     "text": [
      "628949330\n",
      "390577533.93\n"
     ]
    }
   ],
   "source": [
    "earth = int('149597870')\n",
    "jupiter = int('778547200')\n",
    "\n",
    "length = (abs(earth - jupiter)) \n",
    "lengthToMilles = float(length) * 0.621 \n",
    "print(length)\n",
    "\n",
    "print(lengthToMilles)"
   ]
  },
  {
   "cell_type": "markdown",
   "metadata": {},
   "source": []
  },
  {
   "cell_type": "markdown",
   "metadata": {},
   "source": [
    "# Ejercicio 2"
   ]
  },
  {
   "cell_type": "code",
   "execution_count": 8,
   "metadata": {},
   "outputs": [
    {
     "name": "stdout",
     "output_type": "stream",
     "text": [
      "628949330\n",
      "390577533.93\n"
     ]
    }
   ],
   "source": [
    "firstPlanet = input('Enter the value of the first planet')\n",
    "secondPlanet = input('Enter the value of the second planet')\n",
    "\n",
    "firstPlanet = int(firstPlanet)\n",
    "secondPlanet = int(secondPlanet)\n",
    "\n",
    "distance = abs(secondPlanet - firstPlanet )\n",
    "distanceToMilles = abs(float(distance) * 0.621)\n",
    "\n",
    "print(distance)\n",
    "print(distanceToMilles)"
   ]
  }
 ],
 "metadata": {
  "interpreter": {
   "hash": "24e38f5054871c982be59582bcbb2bb6b8522b9670dfe3ee9f05474fd7982df6"
  },
  "kernelspec": {
   "display_name": "Python 3.10.0 64-bit",
   "language": "python",
   "name": "python3"
  },
  "language_info": {
   "codemirror_mode": {
    "name": "ipython",
    "version": 3
   },
   "file_extension": ".py",
   "mimetype": "text/x-python",
   "name": "python",
   "nbconvert_exporter": "python",
   "pygments_lexer": "ipython3",
   "version": "3.10.0"
  },
  "orig_nbformat": 4
 },
 "nbformat": 4,
 "nbformat_minor": 2
}
