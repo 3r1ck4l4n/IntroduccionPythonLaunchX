{
 "cells": [
  {
   "cell_type": "markdown",
   "metadata": {},
   "source": [
    "# Kata 9\n",
    "\n",
    "\n",
    "### Ejercicio 1"
   ]
  },
  {
   "cell_type": "code",
   "execution_count": 9,
   "metadata": {},
   "outputs": [
    {
     "name": "stdout",
     "output_type": "stream",
     "text": [
      "3\n",
      "Average = 46.666666666666664 Tank 1= 10L, Tank 2= 50L, Tank 3= 80L \n"
     ]
    }
   ],
   "source": [
    "def generate_report(tank1, tank2, tank3):\n",
    "    total = average([tank1,tank2,tank3])\n",
    "    return f\"Average = {total} Tank 1= {tank1}L, Tank 2= {tank2}L, Tank 3= {tank3}L \"\n",
    "\n",
    "\n",
    "\n",
    "def average(values):\n",
    "    total = sum(values)\n",
    "    number = len(values)\n",
    "    print(number)\n",
    "    return total/number\n",
    "\n",
    "print(generate_report(10,50,80))"
   ]
  },
  {
   "cell_type": "markdown",
   "metadata": {},
   "source": [
    "### Ejercicio 2"
   ]
  },
  {
   "cell_type": "code",
   "execution_count": 12,
   "metadata": {},
   "outputs": [
    {
     "name": "stdout",
     "output_type": "stream",
     "text": [
      "Mission to Mars Total travel time: 75 minutes Total fuel left: 700 gallons\n"
     ]
    }
   ],
   "source": [
    "def mission_report(prelaunch, flight_time, destination, external_tank, main_tank):\n",
    "    return f\"Mission to {destination} Total travel time: {prelaunch + flight_time} minutes Total fuel left: {external_tank + main_tank} gallons\"\n",
    "    \n",
    "print(mission_report(50, 25, \"Mars\", 500, 200) )"
   ]
  },
  {
   "cell_type": "code",
   "execution_count": 19,
   "metadata": {},
   "outputs": [
    {
     "name": "stdout",
     "output_type": "stream",
     "text": [
      "Mission to: Mars. Travel time: 76 mins. Reservoirs: 700 L\n"
     ]
    }
   ],
   "source": [
    "def mission_report(destination, *minutes, **fuel_reservoirs):\n",
    "    return f\"Mission to: {destination}. Travel time: {sum(minutes)} mins. Reservoirs: {sum(fuel_reservoirs.values())} L\"\n",
    "print(mission_report(\"Mars\", 10, 15, 51, main=500, external=200) )"
   ]
  },
  {
   "cell_type": "markdown",
   "metadata": {},
   "source": [
    "### Ejercicio 3"
   ]
  },
  {
   "cell_type": "code",
   "execution_count": 23,
   "metadata": {},
   "outputs": [
    {
     "name": "stdout",
     "output_type": "stream",
     "text": [
      "Mission to: Mars. Travel time: 76 mins. Reservoirs: 700 L. \n",
      "main tank --> 500 gallons left\n",
      "external tank --> 200 gallons left\n",
      "\n"
     ]
    }
   ],
   "source": [
    "def mission_report(destination, *minutes, **fuel_reservoirs):\n",
    "    report = f\"Mission to: {destination}. Travel time: {sum(minutes)} mins. Reservoirs: {sum(fuel_reservoirs.values())} L. \\n\"\n",
    "    for tank_name, gallons in fuel_reservoirs.items():\n",
    "        report += f\"{tank_name} tank --> {gallons} gallons left\\n\"\n",
    "    return report\n",
    "print(mission_report(\"Mars\", 10, 15, 51, main=500, external=200) )"
   ]
  }
 ],
 "metadata": {
  "interpreter": {
   "hash": "24e38f5054871c982be59582bcbb2bb6b8522b9670dfe3ee9f05474fd7982df6"
  },
  "kernelspec": {
   "display_name": "Python 3.10.0 64-bit",
   "language": "python",
   "name": "python3"
  },
  "language_info": {
   "codemirror_mode": {
    "name": "ipython",
    "version": 3
   },
   "file_extension": ".py",
   "mimetype": "text/x-python",
   "name": "python",
   "nbconvert_exporter": "python",
   "pygments_lexer": "ipython3",
   "version": "3.10.0"
  },
  "orig_nbformat": 4
 },
 "nbformat": 4,
 "nbformat_minor": 2
}
